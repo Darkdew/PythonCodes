{
 "cells": [
  {
   "cell_type": "markdown",
   "metadata": {},
   "source": [
    "# Functions\n",
    "\n",
    "- common set of codes that can be repititvely used."
   ]
  },
  {
   "cell_type": "code",
   "execution_count": 3,
   "metadata": {},
   "outputs": [],
   "source": [
    "def evenoddcheck(num):\n",
    "    if num%2==0:\n",
    "        print('your number is even')\n",
    "    else:\n",
    "        print('your number is odd')\n",
    "    "
   ]
  },
  {
   "cell_type": "code",
   "execution_count": 6,
   "metadata": {},
   "outputs": [
    {
     "name": "stdout",
     "output_type": "stream",
     "text": [
      "your number is even\n"
     ]
    }
   ],
   "source": [
    "result= evenoddcheck(47)\n"
   ]
  },
  {
   "cell_type": "code",
   "execution_count": 7,
   "metadata": {},
   "outputs": [
    {
     "name": "stdout",
     "output_type": "stream",
     "text": [
      "your number is even\n",
      "your number is None\n"
     ]
    }
   ],
   "source": [
    "result= evenoddcheck(42)\n",
    "print('your number is {}'.format(result)) \n",
    "# because we are not returning anything from our evenoddcheck function we can see that the second output\n",
    "#below shows result as 'None'"
   ]
  },
  {
   "cell_type": "code",
   "execution_count": 93,
   "metadata": {},
   "outputs": [],
   "source": [
    "#example showing returning values from a function\n",
    "\n",
    "\n",
    "def primecheck(num):\n",
    "    for i in range(2,num):\n",
    "        if num%i==0:\n",
    "            return \"non-prime\"\n",
    "    return \"prime\"\n",
    "            "
   ]
  },
  {
   "cell_type": "code",
   "execution_count": 95,
   "metadata": {},
   "outputs": [
    {
     "name": "stdout",
     "output_type": "stream",
     "text": [
      "your number is non-prime\n"
     ]
    }
   ],
   "source": [
    "result1= primecheck(48)\n",
    "print(\"your number is {}\".format(result1))"
   ]
  },
  {
   "cell_type": "markdown",
   "metadata": {},
   "source": [
    "# Positional and Keyword arguments"
   ]
  },
  {
   "cell_type": "markdown",
   "metadata": {},
   "source": [
    "- Keyword arguments are initiated in the function itself \n",
    "- positional arguments receive their value from the location from which they are being called"
   ]
  },
  {
   "cell_type": "code",
   "execution_count": 17,
   "metadata": {},
   "outputs": [],
   "source": [
    "def functio(positional, keyword=\"good\"):\n",
    "    print(\"{}, you are doing quite {}\".format(positional, keyword))"
   ]
  },
  {
   "cell_type": "code",
   "execution_count": 18,
   "metadata": {},
   "outputs": [
    {
     "name": "stdout",
     "output_type": "stream",
     "text": [
      "Mr. X, you are doing quite good\n"
     ]
    }
   ],
   "source": [
    "functio(\"Mr. X\")"
   ]
  },
  {
   "cell_type": "markdown",
   "metadata": {},
   "source": [
    "# Positional args as args and Keywordarguments as kwargs"
   ]
  },
  {
   "cell_type": "code",
   "execution_count": 20,
   "metadata": {},
   "outputs": [],
   "source": [
    "def variety(*args, **kwargs):\n",
    "    print(args)\n",
    "    print(kwargs)"
   ]
  },
  {
   "cell_type": "code",
   "execution_count": 21,
   "metadata": {},
   "outputs": [
    {
     "name": "stdout",
     "output_type": "stream",
     "text": [
      "('Maruti', 'Xcent')\n",
      "{'yearofpurchase': 1999, 'enginetype': 'geared'}\n"
     ]
    }
   ],
   "source": [
    "variety(\"Maruti\", \"Xcent\", yearofpurchase= 1999, enginetype='geared')"
   ]
  },
  {
   "cell_type": "markdown",
   "metadata": {},
   "source": [
    "Lets try reverse engineering on our data and function"
   ]
  },
  {
   "cell_type": "markdown",
   "metadata": {},
   "source": [
    "lets say we have a list and a dictionary definition which we wish to pass to our variety function"
   ]
  },
  {
   "cell_type": "code",
   "execution_count": 23,
   "metadata": {},
   "outputs": [
    {
     "name": "stdout",
     "output_type": "stream",
     "text": [
      "(['Maruti', 'Xcent'], {'yearofpurchase': 1999, 'enginetype': 'geared'})\n",
      "{}\n"
     ]
    }
   ],
   "source": [
    "list1= ['Maruti', 'Xcent']\n",
    "dict_def={'yearofpurchase': 1999, 'enginetype': 'geared'}\n",
    "\n",
    "#what if we wish to pass these 2 variables to our function which should receive these as \n",
    "#positional and keyword arguments\n",
    "\n",
    "#can we use the below call? let's try\n",
    "\n",
    "\n",
    "\n",
    "variety(list1, dict_def)"
   ]
  },
  {
   "cell_type": "code",
   "execution_count": 24,
   "metadata": {},
   "outputs": [
    {
     "name": "stdout",
     "output_type": "stream",
     "text": [
      "('Maruti', 'Xcent')\n",
      "{'yearofpurchase': 1999, 'enginetype': 'geared'}\n"
     ]
    }
   ],
   "source": [
    "#the above output shows that our variety function received both \n",
    "#of our variables as positional argument while the keyword argument remained null as {}\n",
    "\n",
    "#so, below is the code that should be used to specify which variable should be going as positional arg\n",
    "#and which should be going as keyword argument\n",
    "\n",
    "variety(*list1, **dict_def)"
   ]
  },
  {
   "cell_type": "markdown",
   "metadata": {},
   "source": [
    "# Returning multiple values using single return"
   ]
  },
  {
   "cell_type": "code",
   "execution_count": 36,
   "metadata": {},
   "outputs": [],
   "source": [
    "def expon(num):\n",
    "    square=num*num\n",
    "    cube=num*num*num\n",
    "    return  square, cube"
   ]
  },
  {
   "cell_type": "code",
   "execution_count": 37,
   "metadata": {},
   "outputs": [
    {
     "name": "stdout",
     "output_type": "stream",
     "text": [
      "(9, 27)\n"
     ]
    }
   ],
   "source": [
    "print(expon(3))"
   ]
  },
  {
   "cell_type": "markdown",
   "metadata": {},
   "source": [
    "# Lambda Functions\n",
    "\n",
    "- function without a name or anonymous functions\n",
    "- works faster\n",
    "- used when we have a single line of code to be defined"
   ]
  },
  {
   "cell_type": "code",
   "execution_count": 34,
   "metadata": {},
   "outputs": [
    {
     "data": {
      "text/plain": [
       "144"
      ]
     },
     "execution_count": 34,
     "metadata": {},
     "output_type": "execute_result"
    }
   ],
   "source": [
    "square= lambda i:i*i\n",
    "square(12)"
   ]
  },
  {
   "cell_type": "code",
   "execution_count": 38,
   "metadata": {},
   "outputs": [
    {
     "data": {
      "text/plain": [
       "20"
      ]
     },
     "execution_count": 38,
     "metadata": {},
     "output_type": "execute_result"
    }
   ],
   "source": [
    "sum= lambda a,b,c,d:a+b+c+d\n",
    "sum(5,10,3,2)"
   ]
  },
  {
   "cell_type": "code",
   "execution_count": 40,
   "metadata": {},
   "outputs": [
    {
     "data": {
      "text/plain": [
       "False"
      ]
     },
     "execution_count": 40,
     "metadata": {},
     "output_type": "execute_result"
    }
   ],
   "source": [
    "evencheck= lambda num:(num%2==0)\n",
    "evencheck(25)"
   ]
  },
  {
   "cell_type": "markdown",
   "metadata": {},
   "source": [
    "# Map()"
   ]
  },
  {
   "cell_type": "code",
   "execution_count": 100,
   "metadata": {},
   "outputs": [],
   "source": [
    "def evenoddcheck_(num):\n",
    "    if num%2==0:\n",
    "        print('{} is even'.format(num))\n",
    "        return True\n",
    "    else:\n",
    "        print('{} is odd'.format(num))"
   ]
  },
  {
   "cell_type": "code",
   "execution_count": 101,
   "metadata": {},
   "outputs": [
    {
     "name": "stdout",
     "output_type": "stream",
     "text": [
      "2 is even\n",
      "3 is odd\n",
      "4 is even\n",
      "5 is odd\n",
      "6 is even\n",
      "7 is odd\n",
      "7 is odd\n"
     ]
    },
    {
     "data": {
      "text/plain": [
       "[True, None, True, None, True, None, None]"
      ]
     },
     "execution_count": 101,
     "metadata": {},
     "output_type": "execute_result"
    }
   ],
   "source": [
    "list1=[2,3,4,5,6,7,7]\n",
    "list(map(evenoddcheck_, list1)) #instantiating memory locs by using list() funcn\n"
   ]
  },
  {
   "cell_type": "markdown",
   "metadata": {},
   "source": [
    "# Filter()\n"
   ]
  },
  {
   "cell_type": "code",
   "execution_count": 91,
   "metadata": {},
   "outputs": [],
   "source": [
    "def prime(num):\n",
    "    for i in range(2,num):\n",
    "        a=num%i \n",
    "        if a==0:\n",
    "            return False\n",
    "    return True"
   ]
  },
  {
   "cell_type": "code",
   "execution_count": 92,
   "metadata": {},
   "outputs": [
    {
     "data": {
      "text/plain": [
       "[3, 37, 31, 79]"
      ]
     },
     "execution_count": 92,
     "metadata": {},
     "output_type": "execute_result"
    }
   ],
   "source": [
    "list4=[3,37,6,31,8,9,79]\n",
    "list(filter(prime, list4))"
   ]
  },
  {
   "cell_type": "code",
   "execution_count": 99,
   "metadata": {},
   "outputs": [
    {
     "data": {
      "text/plain": [
       "[True, True, False, True, False, False, True]"
      ]
     },
     "execution_count": 99,
     "metadata": {},
     "output_type": "execute_result"
    }
   ],
   "source": [
    "list4=[3,37,6,31,8,9,79]\n",
    "list(map(prime, list4))"
   ]
  },
  {
   "cell_type": "code",
   "execution_count": 98,
   "metadata": {},
   "outputs": [
    {
     "data": {
      "text/plain": [
       "[6, 8]"
      ]
     },
     "execution_count": 98,
     "metadata": {},
     "output_type": "execute_result"
    }
   ],
   "source": [
    "#even check \n",
    "\n",
    "list(filter(lambda num:num%2==0, list4))"
   ]
  },
  {
   "cell_type": "code",
   "execution_count": 102,
   "metadata": {},
   "outputs": [
    {
     "data": {
      "text/plain": [
       "[False, False, True, False, True, False, False]"
      ]
     },
     "execution_count": 102,
     "metadata": {},
     "output_type": "execute_result"
    }
   ],
   "source": [
    "#even check \n",
    "\n",
    "list(map(lambda num:num%2==0, list4))"
   ]
  },
  {
   "cell_type": "markdown",
   "metadata": {},
   "source": [
    "# List comprehension\n",
    "\n",
    "- shortcut to creating lists\n",
    "- inside brackets: an expression first, and then any number of for or if clauses"
   ]
  },
  {
   "cell_type": "code",
   "execution_count": 103,
   "metadata": {},
   "outputs": [],
   "source": [
    "list10=[i*i for i in range(1,8) if i%2==0]"
   ]
  },
  {
   "cell_type": "code",
   "execution_count": 104,
   "metadata": {},
   "outputs": [
    {
     "data": {
      "text/plain": [
       "[4, 16, 36]"
      ]
     },
     "execution_count": 104,
     "metadata": {},
     "output_type": "execute_result"
    }
   ],
   "source": [
    "list10"
   ]
  },
  {
   "cell_type": "code",
   "execution_count": 106,
   "metadata": {},
   "outputs": [],
   "source": [
    "list11=[i*i*i for i in list10]"
   ]
  },
  {
   "cell_type": "code",
   "execution_count": 107,
   "metadata": {},
   "outputs": [
    {
     "data": {
      "text/plain": [
       "[64, 4096, 46656]"
      ]
     },
     "execution_count": 107,
     "metadata": {},
     "output_type": "execute_result"
    }
   ],
   "source": [
    "list11"
   ]
  }
 ],
 "metadata": {
  "kernelspec": {
   "display_name": "Python 3",
   "language": "python",
   "name": "python3"
  },
  "language_info": {
   "codemirror_mode": {
    "name": "ipython",
    "version": 3
   },
   "file_extension": ".py",
   "mimetype": "text/x-python",
   "name": "python",
   "nbconvert_exporter": "python",
   "pygments_lexer": "ipython3",
   "version": "3.7.4"
  }
 },
 "nbformat": 4,
 "nbformat_minor": 2
}
